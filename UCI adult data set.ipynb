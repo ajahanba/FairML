{
 "cells": [
  {
   "cell_type": "code",
   "execution_count": 21,
   "metadata": {},
   "outputs": [],
   "source": [
    "import pandas as pd\n",
    "import pylab\n",
    "import numpy as np\n",
    "import sklearn\n",
    "from sklearn import linear_model\n",
    "import sklearn.preprocessing as preprocessing\n",
    "import sklearn.metrics as metrics\n",
    "import matplotlib.pyplot as plt\n",
    "from statsmodels.stats import proportion"
   ]
  },
  {
   "cell_type": "markdown",
   "metadata": {},
   "source": [
    "# Load the UCI adult dataset "
   ]
  },
  {
   "cell_type": "markdown",
   "metadata": {},
   "source": [
    " Download the data for this notebook from Source: https://archive.ics.uci.edu/ml/datasets/Adult"
   ]
  },
  {
   "cell_type": "code",
   "execution_count": 22,
   "metadata": {},
   "outputs": [
    {
     "name": "stdout",
     "output_type": "stream",
     "text": [
      "Number of training points\n",
      "32561\n",
      "Number of testing points\n",
      "16281\n"
     ]
    },
    {
     "data": {
      "text/html": [
       "<div>\n",
       "<style scoped>\n",
       "    .dataframe tbody tr th:only-of-type {\n",
       "        vertical-align: middle;\n",
       "    }\n",
       "\n",
       "    .dataframe tbody tr th {\n",
       "        vertical-align: top;\n",
       "    }\n",
       "\n",
       "    .dataframe thead th {\n",
       "        text-align: right;\n",
       "    }\n",
       "</style>\n",
       "<table border=\"1\" class=\"dataframe\">\n",
       "  <thead>\n",
       "    <tr style=\"text-align: right;\">\n",
       "      <th></th>\n",
       "      <th>Age</th>\n",
       "      <th>Workclass</th>\n",
       "      <th>fnlwgt</th>\n",
       "      <th>Education</th>\n",
       "      <th>Education-Num</th>\n",
       "      <th>Martial Status</th>\n",
       "      <th>Occupation</th>\n",
       "      <th>Relationship</th>\n",
       "      <th>Race</th>\n",
       "      <th>Sex</th>\n",
       "      <th>Capital Gain</th>\n",
       "      <th>Capital Loss</th>\n",
       "      <th>Hours per week</th>\n",
       "      <th>Country</th>\n",
       "      <th>Target</th>\n",
       "    </tr>\n",
       "  </thead>\n",
       "  <tbody>\n",
       "    <tr>\n",
       "      <th>0</th>\n",
       "      <td>39</td>\n",
       "      <td>State-gov</td>\n",
       "      <td>77516</td>\n",
       "      <td>Bachelors</td>\n",
       "      <td>13</td>\n",
       "      <td>Never-married</td>\n",
       "      <td>Adm-clerical</td>\n",
       "      <td>Not-in-family</td>\n",
       "      <td>White</td>\n",
       "      <td>Male</td>\n",
       "      <td>2174</td>\n",
       "      <td>0</td>\n",
       "      <td>40</td>\n",
       "      <td>United-States</td>\n",
       "      <td>&lt;=50K</td>\n",
       "    </tr>\n",
       "    <tr>\n",
       "      <th>1</th>\n",
       "      <td>50</td>\n",
       "      <td>Self-emp-not-inc</td>\n",
       "      <td>83311</td>\n",
       "      <td>Bachelors</td>\n",
       "      <td>13</td>\n",
       "      <td>Married-civ-spouse</td>\n",
       "      <td>Exec-managerial</td>\n",
       "      <td>Husband</td>\n",
       "      <td>White</td>\n",
       "      <td>Male</td>\n",
       "      <td>0</td>\n",
       "      <td>0</td>\n",
       "      <td>13</td>\n",
       "      <td>United-States</td>\n",
       "      <td>&lt;=50K</td>\n",
       "    </tr>\n",
       "    <tr>\n",
       "      <th>2</th>\n",
       "      <td>38</td>\n",
       "      <td>Private</td>\n",
       "      <td>215646</td>\n",
       "      <td>HS-grad</td>\n",
       "      <td>9</td>\n",
       "      <td>Divorced</td>\n",
       "      <td>Handlers-cleaners</td>\n",
       "      <td>Not-in-family</td>\n",
       "      <td>White</td>\n",
       "      <td>Male</td>\n",
       "      <td>0</td>\n",
       "      <td>0</td>\n",
       "      <td>40</td>\n",
       "      <td>United-States</td>\n",
       "      <td>&lt;=50K</td>\n",
       "    </tr>\n",
       "    <tr>\n",
       "      <th>3</th>\n",
       "      <td>53</td>\n",
       "      <td>Private</td>\n",
       "      <td>234721</td>\n",
       "      <td>11th</td>\n",
       "      <td>7</td>\n",
       "      <td>Married-civ-spouse</td>\n",
       "      <td>Handlers-cleaners</td>\n",
       "      <td>Husband</td>\n",
       "      <td>Black</td>\n",
       "      <td>Male</td>\n",
       "      <td>0</td>\n",
       "      <td>0</td>\n",
       "      <td>40</td>\n",
       "      <td>United-States</td>\n",
       "      <td>&lt;=50K</td>\n",
       "    </tr>\n",
       "    <tr>\n",
       "      <th>4</th>\n",
       "      <td>28</td>\n",
       "      <td>Private</td>\n",
       "      <td>338409</td>\n",
       "      <td>Bachelors</td>\n",
       "      <td>13</td>\n",
       "      <td>Married-civ-spouse</td>\n",
       "      <td>Prof-specialty</td>\n",
       "      <td>Wife</td>\n",
       "      <td>Black</td>\n",
       "      <td>Female</td>\n",
       "      <td>0</td>\n",
       "      <td>0</td>\n",
       "      <td>40</td>\n",
       "      <td>Cuba</td>\n",
       "      <td>&lt;=50K</td>\n",
       "    </tr>\n",
       "  </tbody>\n",
       "</table>\n",
       "</div>"
      ],
      "text/plain": [
       "   Age         Workclass  fnlwgt  Education  Education-Num  \\\n",
       "0   39         State-gov   77516  Bachelors             13   \n",
       "1   50  Self-emp-not-inc   83311  Bachelors             13   \n",
       "2   38           Private  215646    HS-grad              9   \n",
       "3   53           Private  234721       11th              7   \n",
       "4   28           Private  338409  Bachelors             13   \n",
       "\n",
       "       Martial Status         Occupation   Relationship   Race     Sex  \\\n",
       "0       Never-married       Adm-clerical  Not-in-family  White    Male   \n",
       "1  Married-civ-spouse    Exec-managerial        Husband  White    Male   \n",
       "2            Divorced  Handlers-cleaners  Not-in-family  White    Male   \n",
       "3  Married-civ-spouse  Handlers-cleaners        Husband  Black    Male   \n",
       "4  Married-civ-spouse     Prof-specialty           Wife  Black  Female   \n",
       "\n",
       "   Capital Gain  Capital Loss  Hours per week        Country Target  \n",
       "0          2174             0              40  United-States  <=50K  \n",
       "1             0             0              13  United-States  <=50K  \n",
       "2             0             0              40  United-States  <=50K  \n",
       "3             0             0              40  United-States  <=50K  \n",
       "4             0             0              40           Cuba  <=50K  "
      ]
     },
     "execution_count": 22,
     "metadata": {},
     "output_type": "execute_result"
    }
   ],
   "source": [
    "# Source: https://www.valentinmihov.com/2015/04/17/adult-income-data-set/\n",
    "\n",
    "features = [\"Age\", \"Workclass\", \"fnlwgt\", \"Education\", \"Education-Num\", \"Martial Status\",\n",
    "        \"Occupation\", \"Relationship\", \"Race\", \"Sex\", \"Capital Gain\", \"Capital Loss\",\n",
    "        \"Hours per week\", \"Country\", \"Target\"] \n",
    "\n",
    "\n",
    "train_url = '~/Documents/Teaching/490/data/adult.data'\n",
    "test_url = '~/Documents/Teaching/490/data/adult.test'\n",
    "\n",
    "original_train = pd.read_csv(train_url, names=features, sep=r'\\s*,\\s*', \n",
    "                             engine='python', na_values=\"?\")\n",
    "original_test = pd.read_csv(test_url, names=features, sep=r'\\s*,\\s*', \n",
    "                            engine='python', na_values=\"?\", skiprows=1)\n",
    "\n",
    "num_train = len(original_train)\n",
    "print('Number of training points')\n",
    "print(num_train)\n",
    "\n",
    "\n",
    "print('Number of testing points')\n",
    "print(len(original_test))\n",
    "\n",
    "\n",
    "original = pd.concat([original_train, original_test])\n",
    "\n",
    "original.head()\n",
    "\n"
   ]
  },
  {
   "cell_type": "markdown",
   "metadata": {},
   "source": [
    "# Descriptive Analysis"
   ]
  },
  {
   "cell_type": "markdown",
   "metadata": {},
   "source": [
    "    Let's take a deeper dive to our data. We want to precit income so let's see how it is distributed."
   ]
  },
  {
   "cell_type": "code",
   "execution_count": 23,
   "metadata": {},
   "outputs": [
    {
     "data": {
      "text/plain": [
       "0.7607182343065395"
      ]
     },
     "execution_count": 23,
     "metadata": {},
     "output_type": "execute_result"
    }
   ],
   "source": [
    "original_less50K = len(original[(original.Target == '<=50K') | (original.Target == '<=50K.')])/len(original)\n",
    "original_less50K\n",
    "\n",
    "#do this for yourself on >50k"
   ]
  },
  {
   "cell_type": "code",
   "execution_count": 24,
   "metadata": {},
   "outputs": [
    {
     "name": "stdout",
     "output_type": "stream",
     "text": [
      "4685\n",
      "41762\n"
     ]
    },
    {
     "data": {
      "text/html": [
       "<div>\n",
       "<style scoped>\n",
       "    .dataframe tbody tr th:only-of-type {\n",
       "        vertical-align: middle;\n",
       "    }\n",
       "\n",
       "    .dataframe tbody tr th {\n",
       "        vertical-align: top;\n",
       "    }\n",
       "\n",
       "    .dataframe thead th {\n",
       "        text-align: right;\n",
       "    }\n",
       "</style>\n",
       "<table border=\"1\" class=\"dataframe\">\n",
       "  <thead>\n",
       "    <tr style=\"text-align: right;\">\n",
       "      <th></th>\n",
       "      <th>&lt;=50K</th>\n",
       "      <th>&gt;50K</th>\n",
       "    </tr>\n",
       "  </thead>\n",
       "  <tbody>\n",
       "    <tr>\n",
       "      <th>Black</th>\n",
       "      <td>0.879189</td>\n",
       "      <td>0.120811</td>\n",
       "    </tr>\n",
       "    <tr>\n",
       "      <th>White</th>\n",
       "      <td>0.746013</td>\n",
       "      <td>0.253987</td>\n",
       "    </tr>\n",
       "  </tbody>\n",
       "</table>\n",
       "</div>"
      ],
      "text/plain": [
       "          <=50K      >50K\n",
       "Black  0.879189  0.120811\n",
       "White  0.746013  0.253987"
      ]
     },
     "execution_count": 24,
     "metadata": {},
     "output_type": "execute_result"
    }
   ],
   "source": [
    "#HERE\n",
    "black = original[original['Race']=='Black'] #subgrouping\n",
    "white = original[original['Race']=='White']\n",
    "total_black = len(original[original['Race']=='Black'])\n",
    "total_white = len(original[original['Race']=='White'])\n",
    "\n",
    "print(total_black)\n",
    "print(total_white)\n",
    "\n",
    "\n",
    "black_less50K = len(black[(black.Target == '<=50K') | (black.Target == '<=50K.')])/total_black\n",
    "black_greater50K = len(black[(black.Target == '>50K') | (black.Target == '>50K.')])/total_black\n",
    "white_less50K = len(white[(white.Target == '<=50K') | (white.Target == '<=50K.')])/total_white\n",
    "white_greater50K = len(white[(white.Target == '>50K') | (white.Target == '>50K.')])/total_white\n",
    "\n",
    "target_percent = pd.DataFrame({'<=50K': [black_less50K, white_less50K], '>50K': [black_greater50K, white_greater50K]}, index=['Black', 'White'])\n",
    "target_percent"
   ]
  },
  {
   "cell_type": "code",
   "execution_count": 25,
   "metadata": {},
   "outputs": [
    {
     "name": "stdout",
     "output_type": "stream",
     "text": [
      "16192\n"
     ]
    },
    {
     "data": {
      "text/html": [
       "<div>\n",
       "<style scoped>\n",
       "    .dataframe tbody tr th:only-of-type {\n",
       "        vertical-align: middle;\n",
       "    }\n",
       "\n",
       "    .dataframe tbody tr th {\n",
       "        vertical-align: top;\n",
       "    }\n",
       "\n",
       "    .dataframe thead th {\n",
       "        text-align: right;\n",
       "    }\n",
       "</style>\n",
       "<table border=\"1\" class=\"dataframe\">\n",
       "  <thead>\n",
       "    <tr style=\"text-align: right;\">\n",
       "      <th></th>\n",
       "      <th>&lt;=50K</th>\n",
       "      <th>&gt;50K</th>\n",
       "    </tr>\n",
       "  </thead>\n",
       "  <tbody>\n",
       "    <tr>\n",
       "      <th>Female</th>\n",
       "      <td>0.890749</td>\n",
       "      <td>0.109251</td>\n",
       "    </tr>\n",
       "    <tr>\n",
       "      <th>Male</th>\n",
       "      <td>0.696233</td>\n",
       "      <td>0.303767</td>\n",
       "    </tr>\n",
       "  </tbody>\n",
       "</table>\n",
       "</div>"
      ],
      "text/plain": [
       "           <=50K      >50K\n",
       "Female  0.890749  0.109251\n",
       "Male    0.696233  0.303767"
      ]
     },
     "execution_count": 25,
     "metadata": {},
     "output_type": "execute_result"
    }
   ],
   "source": [
    "female = original[original['Sex']=='Female'] #subgrouping\n",
    "male = original[original['Sex']=='Male']\n",
    "total_female=len(female)\n",
    "total_male=len(male)\n",
    "print(total_female)\n",
    "female_less50K = len(female[(female.Target == '<=50K') | (female.Target == '<=50K.')])/total_female\n",
    "female_greater50K = len(female[(female.Target == '>50K') | (female.Target == '>50K.')])/total_female\n",
    "male_less50K = len(male[(male.Target == '<=50K') | (male.Target == '<=50K.')])/total_male\n",
    "male_greater50K = len(male[(male.Target == '>50K') | (male.Target == '>50K.')])/total_male\n",
    "\n",
    "target_percent = pd.DataFrame({'<=50K': [female_less50K, male_less50K], '>50K': [female_greater50K, male_greater50K]}, index=['Female', 'Male'])\n",
    "target_percent\n"
   ]
  },
  {
   "cell_type": "markdown",
   "metadata": {},
   "source": [
    "# Check-in point  Build a similar table for gender- Submit it on canvas by end of today. "
   ]
  },
  {
   "cell_type": "markdown",
   "metadata": {},
   "source": [
    "# Logistic Regression "
   ]
  },
  {
   "cell_type": "markdown",
   "metadata": {},
   "source": [
    "We are going to process our data to make it ready for logistic regression. Unlike linear regression logistic regression uses categorical data. Some important assumptions  of the logistic regression is: \n",
    "\n",
    "Logistic Regression Assumptions\n",
    "\n",
    "    -Binary logistic regression requires the dependent variable to be binary.\n",
    "\n",
    "\n",
    "    -For a binary regression, the factor level 1 of the dependent variable should represent the desired outcome.\n",
    "\n",
    "\n",
    "    -Only the meaningful variables should be included.\n",
    "\n",
    "\n",
    "\n",
    "    -The independent variables should be independent of each other.\n",
    "    That is, the model should have little or no multicollinearity.\n",
    "\n",
    "\n",
    "\n",
    "    -The independent variables are linearly related to the log odds.\n",
    "\n",
    "\n",
    "\n",
    "    -Logistic regression requires quite large sample sizes.\n"
   ]
  },
  {
   "cell_type": "markdown",
   "metadata": {},
   "source": [
    "![alt text](a.png)"
   ]
  },
  {
   "cell_type": "markdown",
   "metadata": {},
   "source": [
    "## Cleaning the data "
   ]
  },
  {
   "cell_type": "markdown",
   "metadata": {},
   "source": [
    "Let's first prepare our data such that our target variable is 0 or 1.\n",
    "By normalizing it and then putting it back into the test and train sets again.\n",
    "We do this by defining a data_transform function"
   ]
  },
  {
   "cell_type": "code",
   "execution_count": 26,
   "metadata": {},
   "outputs": [
    {
     "name": "stdout",
     "output_type": "stream",
     "text": [
      "0        0\n",
      "1        0\n",
      "2        0\n",
      "3        0\n",
      "4        0\n",
      "        ..\n",
      "16276    0\n",
      "16277    0\n",
      "16278    0\n",
      "16279    0\n",
      "16280    1\n",
      "Name: Target, Length: 48842, dtype: int64\n"
     ]
    }
   ],
   "source": [
    "original.head()\n",
    "labels = original['Target']\n",
    "labels = labels.replace('<=50K', 0).replace('>50K', 1)\n",
    "labels = labels.replace('<=50K.', 0).replace('>50K.', 1)\n",
    "print(labels)"
   ]
  },
  {
   "cell_type": "code",
   "execution_count": 27,
   "metadata": {},
   "outputs": [
    {
     "data": {
      "text/html": [
       "<div>\n",
       "<style scoped>\n",
       "    .dataframe tbody tr th:only-of-type {\n",
       "        vertical-align: middle;\n",
       "    }\n",
       "\n",
       "    .dataframe tbody tr th {\n",
       "        vertical-align: top;\n",
       "    }\n",
       "\n",
       "    .dataframe thead th {\n",
       "        text-align: right;\n",
       "    }\n",
       "</style>\n",
       "<table border=\"1\" class=\"dataframe\">\n",
       "  <thead>\n",
       "    <tr style=\"text-align: right;\">\n",
       "      <th></th>\n",
       "      <th>Age</th>\n",
       "      <th>fnlwgt</th>\n",
       "      <th>Education-Num</th>\n",
       "      <th>Capital Gain</th>\n",
       "      <th>Capital Loss</th>\n",
       "      <th>Hours per week</th>\n",
       "      <th>Workclass_Federal-gov</th>\n",
       "      <th>Workclass_Local-gov</th>\n",
       "      <th>Workclass_Never-worked</th>\n",
       "      <th>Workclass_Private</th>\n",
       "      <th>...</th>\n",
       "      <th>Country_Philippines</th>\n",
       "      <th>Country_Poland</th>\n",
       "      <th>Country_Portugal</th>\n",
       "      <th>Country_Puerto-Rico</th>\n",
       "      <th>Country_Scotland</th>\n",
       "      <th>Country_South</th>\n",
       "      <th>Country_Taiwan</th>\n",
       "      <th>Country_Thailand</th>\n",
       "      <th>Country_Trinadad&amp;Tobago</th>\n",
       "      <th>Country_United-States</th>\n",
       "    </tr>\n",
       "  </thead>\n",
       "  <tbody>\n",
       "    <tr>\n",
       "      <th>0</th>\n",
       "      <td>0.025996</td>\n",
       "      <td>-1.061979</td>\n",
       "      <td>1.136512</td>\n",
       "      <td>0.146932</td>\n",
       "      <td>-0.217127</td>\n",
       "      <td>-0.034087</td>\n",
       "      <td>-0.173795</td>\n",
       "      <td>-0.26194</td>\n",
       "      <td>-0.01431</td>\n",
       "      <td>-1.506680</td>\n",
       "      <td>...</td>\n",
       "      <td>-0.077952</td>\n",
       "      <td>-0.042243</td>\n",
       "      <td>-0.037063</td>\n",
       "      <td>-0.061494</td>\n",
       "      <td>-0.02074</td>\n",
       "      <td>-0.048581</td>\n",
       "      <td>-0.036505</td>\n",
       "      <td>-0.024791</td>\n",
       "      <td>-0.023518</td>\n",
       "      <td>0.338083</td>\n",
       "    </tr>\n",
       "    <tr>\n",
       "      <th>1</th>\n",
       "      <td>0.828308</td>\n",
       "      <td>-1.007104</td>\n",
       "      <td>1.136512</td>\n",
       "      <td>-0.144804</td>\n",
       "      <td>-0.217127</td>\n",
       "      <td>-2.213032</td>\n",
       "      <td>-0.173795</td>\n",
       "      <td>-0.26194</td>\n",
       "      <td>-0.01431</td>\n",
       "      <td>-1.506680</td>\n",
       "      <td>...</td>\n",
       "      <td>-0.077952</td>\n",
       "      <td>-0.042243</td>\n",
       "      <td>-0.037063</td>\n",
       "      <td>-0.061494</td>\n",
       "      <td>-0.02074</td>\n",
       "      <td>-0.048581</td>\n",
       "      <td>-0.036505</td>\n",
       "      <td>-0.024791</td>\n",
       "      <td>-0.023518</td>\n",
       "      <td>0.338083</td>\n",
       "    </tr>\n",
       "    <tr>\n",
       "      <th>2</th>\n",
       "      <td>-0.046942</td>\n",
       "      <td>0.246034</td>\n",
       "      <td>-0.419335</td>\n",
       "      <td>-0.144804</td>\n",
       "      <td>-0.217127</td>\n",
       "      <td>-0.034087</td>\n",
       "      <td>-0.173795</td>\n",
       "      <td>-0.26194</td>\n",
       "      <td>-0.01431</td>\n",
       "      <td>0.663711</td>\n",
       "      <td>...</td>\n",
       "      <td>-0.077952</td>\n",
       "      <td>-0.042243</td>\n",
       "      <td>-0.037063</td>\n",
       "      <td>-0.061494</td>\n",
       "      <td>-0.02074</td>\n",
       "      <td>-0.048581</td>\n",
       "      <td>-0.036505</td>\n",
       "      <td>-0.024791</td>\n",
       "      <td>-0.023518</td>\n",
       "      <td>0.338083</td>\n",
       "    </tr>\n",
       "    <tr>\n",
       "      <th>3</th>\n",
       "      <td>1.047121</td>\n",
       "      <td>0.426663</td>\n",
       "      <td>-1.197259</td>\n",
       "      <td>-0.144804</td>\n",
       "      <td>-0.217127</td>\n",
       "      <td>-0.034087</td>\n",
       "      <td>-0.173795</td>\n",
       "      <td>-0.26194</td>\n",
       "      <td>-0.01431</td>\n",
       "      <td>0.663711</td>\n",
       "      <td>...</td>\n",
       "      <td>-0.077952</td>\n",
       "      <td>-0.042243</td>\n",
       "      <td>-0.037063</td>\n",
       "      <td>-0.061494</td>\n",
       "      <td>-0.02074</td>\n",
       "      <td>-0.048581</td>\n",
       "      <td>-0.036505</td>\n",
       "      <td>-0.024791</td>\n",
       "      <td>-0.023518</td>\n",
       "      <td>0.338083</td>\n",
       "    </tr>\n",
       "    <tr>\n",
       "      <th>4</th>\n",
       "      <td>-0.776316</td>\n",
       "      <td>1.408530</td>\n",
       "      <td>1.136512</td>\n",
       "      <td>-0.144804</td>\n",
       "      <td>-0.217127</td>\n",
       "      <td>-0.034087</td>\n",
       "      <td>-0.173795</td>\n",
       "      <td>-0.26194</td>\n",
       "      <td>-0.01431</td>\n",
       "      <td>0.663711</td>\n",
       "      <td>...</td>\n",
       "      <td>-0.077952</td>\n",
       "      <td>-0.042243</td>\n",
       "      <td>-0.037063</td>\n",
       "      <td>-0.061494</td>\n",
       "      <td>-0.02074</td>\n",
       "      <td>-0.048581</td>\n",
       "      <td>-0.036505</td>\n",
       "      <td>-0.024791</td>\n",
       "      <td>-0.023518</td>\n",
       "      <td>-2.957854</td>\n",
       "    </tr>\n",
       "  </tbody>\n",
       "</table>\n",
       "<p>5 rows × 87 columns</p>\n",
       "</div>"
      ],
      "text/plain": [
       "        Age    fnlwgt  Education-Num  Capital Gain  Capital Loss  \\\n",
       "0  0.025996 -1.061979       1.136512      0.146932     -0.217127   \n",
       "1  0.828308 -1.007104       1.136512     -0.144804     -0.217127   \n",
       "2 -0.046942  0.246034      -0.419335     -0.144804     -0.217127   \n",
       "3  1.047121  0.426663      -1.197259     -0.144804     -0.217127   \n",
       "4 -0.776316  1.408530       1.136512     -0.144804     -0.217127   \n",
       "\n",
       "   Hours per week  Workclass_Federal-gov  Workclass_Local-gov  \\\n",
       "0       -0.034087              -0.173795             -0.26194   \n",
       "1       -2.213032              -0.173795             -0.26194   \n",
       "2       -0.034087              -0.173795             -0.26194   \n",
       "3       -0.034087              -0.173795             -0.26194   \n",
       "4       -0.034087              -0.173795             -0.26194   \n",
       "\n",
       "   Workclass_Never-worked  Workclass_Private  ...  Country_Philippines  \\\n",
       "0                -0.01431          -1.506680  ...            -0.077952   \n",
       "1                -0.01431          -1.506680  ...            -0.077952   \n",
       "2                -0.01431           0.663711  ...            -0.077952   \n",
       "3                -0.01431           0.663711  ...            -0.077952   \n",
       "4                -0.01431           0.663711  ...            -0.077952   \n",
       "\n",
       "   Country_Poland  Country_Portugal  Country_Puerto-Rico  Country_Scotland  \\\n",
       "0       -0.042243         -0.037063            -0.061494          -0.02074   \n",
       "1       -0.042243         -0.037063            -0.061494          -0.02074   \n",
       "2       -0.042243         -0.037063            -0.061494          -0.02074   \n",
       "3       -0.042243         -0.037063            -0.061494          -0.02074   \n",
       "4       -0.042243         -0.037063            -0.061494          -0.02074   \n",
       "\n",
       "   Country_South  Country_Taiwan  Country_Thailand  Country_Trinadad&Tobago  \\\n",
       "0      -0.048581       -0.036505         -0.024791                -0.023518   \n",
       "1      -0.048581       -0.036505         -0.024791                -0.023518   \n",
       "2      -0.048581       -0.036505         -0.024791                -0.023518   \n",
       "3      -0.048581       -0.036505         -0.024791                -0.023518   \n",
       "4      -0.048581       -0.036505         -0.024791                -0.023518   \n",
       "\n",
       "   Country_United-States  \n",
       "0               0.338083  \n",
       "1               0.338083  \n",
       "2               0.338083  \n",
       "3               0.338083  \n",
       "4              -2.957854  \n",
       "\n",
       "[5 rows x 87 columns]"
      ]
     },
     "execution_count": 27,
     "metadata": {},
     "output_type": "execute_result"
    }
   ],
   "source": [
    "# Redundant column\n",
    "del original[\"Education\"]\n",
    "\n",
    "# Remove target variable\n",
    "del original[\"Target\"]\n",
    "\n",
    "def data_transform(df):\n",
    "    \"\"\"Normalize features.\"\"\"\n",
    "    binary_data = pd.get_dummies(df)\n",
    "    feature_cols = binary_data[binary_data.columns[:-2]]\n",
    "    scaler = preprocessing.StandardScaler()\n",
    "    data = pd.DataFrame(scaler.fit_transform(feature_cols), columns=feature_cols.columns)\n",
    "    return data\n",
    "\n",
    "data = data_transform(original)\n",
    "\n",
    "\n",
    "train_data = data[:num_train]\n",
    "train_labels = labels[:num_train]\n",
    "\n",
    "\n",
    "\n",
    "test_data = data[num_train:]\n",
    "test_labels = labels[num_train:]\n",
    "\n",
    "data.head()"
   ]
  },
  {
   "cell_type": "code",
   "execution_count": 28,
   "metadata": {},
   "outputs": [
    {
     "data": {
      "text/plain": [
       "LogisticRegression(C=1.0, class_weight=None, dual=False, fit_intercept=True,\n",
       "                   intercept_scaling=1, l1_ratio=None, max_iter=100,\n",
       "                   multi_class='auto', n_jobs=None, penalty='l2',\n",
       "                   random_state=None, solver='lbfgs', tol=0.0001, verbose=0,\n",
       "                   warm_start=False)"
      ]
     },
     "execution_count": 28,
     "metadata": {},
     "output_type": "execute_result"
    }
   ],
   "source": [
    "cls = linear_model.LogisticRegression()\n",
    "cls.fit(train_data, train_labels)"
   ]
  },
  {
   "cell_type": "code",
   "execution_count": 29,
   "metadata": {},
   "outputs": [
    {
     "data": {
      "text/plain": [
       "0.8527117498925127"
      ]
     },
     "execution_count": 29,
     "metadata": {},
     "output_type": "execute_result"
    }
   ],
   "source": [
    "predictions = cls.predict(test_data)\n",
    "\n",
    "overall_scores = cls.score(test_data,test_labels)\n",
    "\n",
    "overall_scores"
   ]
  },
  {
   "cell_type": "markdown",
   "metadata": {},
   "source": [
    "# Fairness examination "
   ]
  },
  {
   "cell_type": "markdown",
   "metadata": {},
   "source": [
    "![alt text](b.png)"
   ]
  },
  {
   "cell_type": "markdown",
   "metadata": {},
   "source": [
    "# Independece "
   ]
  },
  {
   "cell_type": "markdown",
   "metadata": {},
   "source": [
    "Fairness through independence: \n",
    "\n",
    "Dempgraphic Parity (group parity): P{C=1,A=a}= P{C=1,A=b}\n",
    "In this case for example: P{prediction=1, Male} = P{prediction=1,Female}\n",
    "\n",
    "We can apply some relaxation and say \n",
    "P{prediction=1, Male}/ P{prediction=1,Female} >= 1- epsilon\n",
    "\n",
    "epsilon is usually put to 0.2 \n",
    "\n",
    "Note what we are calculting is independent of the truth. We just wanna make sure our classifer is equaly accepting \n",
    "female and male "
   ]
  },
  {
   "cell_type": "code",
   "execution_count": 30,
   "metadata": {},
   "outputs": [
    {
     "data": {
      "text/html": [
       "<div>\n",
       "<style scoped>\n",
       "    .dataframe tbody tr th:only-of-type {\n",
       "        vertical-align: middle;\n",
       "    }\n",
       "\n",
       "    .dataframe tbody tr th {\n",
       "        vertical-align: top;\n",
       "    }\n",
       "\n",
       "    .dataframe thead th {\n",
       "        text-align: right;\n",
       "    }\n",
       "</style>\n",
       "<table border=\"1\" class=\"dataframe\">\n",
       "  <thead>\n",
       "    <tr style=\"text-align: right;\">\n",
       "      <th></th>\n",
       "      <th>target</th>\n",
       "      <th>score</th>\n",
       "      <th>prediction</th>\n",
       "      <th>race</th>\n",
       "      <th>gender</th>\n",
       "    </tr>\n",
       "  </thead>\n",
       "  <tbody>\n",
       "    <tr>\n",
       "      <th>0</th>\n",
       "      <td>0</td>\n",
       "      <td>0.002752</td>\n",
       "      <td>0</td>\n",
       "      <td>Black</td>\n",
       "      <td>Male</td>\n",
       "    </tr>\n",
       "    <tr>\n",
       "      <th>1</th>\n",
       "      <td>0</td>\n",
       "      <td>0.117700</td>\n",
       "      <td>0</td>\n",
       "      <td>White</td>\n",
       "      <td>Male</td>\n",
       "    </tr>\n",
       "    <tr>\n",
       "      <th>2</th>\n",
       "      <td>1</td>\n",
       "      <td>0.456652</td>\n",
       "      <td>0</td>\n",
       "      <td>White</td>\n",
       "      <td>Male</td>\n",
       "    </tr>\n",
       "    <tr>\n",
       "      <th>3</th>\n",
       "      <td>1</td>\n",
       "      <td>0.754372</td>\n",
       "      <td>1</td>\n",
       "      <td>Black</td>\n",
       "      <td>Male</td>\n",
       "    </tr>\n",
       "    <tr>\n",
       "      <th>4</th>\n",
       "      <td>0</td>\n",
       "      <td>0.001220</td>\n",
       "      <td>0</td>\n",
       "      <td>White</td>\n",
       "      <td>Female</td>\n",
       "    </tr>\n",
       "  </tbody>\n",
       "</table>\n",
       "</div>"
      ],
      "text/plain": [
       "   target     score  prediction   race  gender\n",
       "0       0  0.002752           0  Black    Male\n",
       "1       0  0.117700           0  White    Male\n",
       "2       1  0.456652           0  White    Male\n",
       "3       1  0.754372           1  Black    Male\n",
       "4       0  0.001220           0  White  Female"
      ]
     },
     "execution_count": 30,
     "metadata": {},
     "output_type": "execute_result"
    }
   ],
   "source": [
    "scores = cls.predict_proba(test_data)[:, 1]\n",
    "d = {'target' : test_labels.values,\n",
    "     'score' : scores,\n",
    "     'prediction' : predictions,\n",
    "     'race' : original_test['Race'],\n",
    "     'gender' : original_test['Sex']}\n",
    "\n",
    "marginals = pd.DataFrame(data=d, columns=['target', 'score', 'prediction', 'race', 'gender'])\n",
    "marginals.head()"
   ]
  },
  {
   "cell_type": "code",
   "execution_count": 31,
   "metadata": {},
   "outputs": [
    {
     "name": "stdout",
     "output_type": "stream",
     "text": [
      "0.30133308247315777\n"
     ]
    }
   ],
   "source": [
    "postive_class= marginals[(marginals['prediction'] == 1) ]\n",
    "\n",
    "postive_female= postive_class[(postive_class['gender'] == 'Female')]\n",
    "postive_male= postive_class[(postive_class['gender'] == 'Male')]\n",
    "\n",
    "\n",
    "#print(len(postive_female)/len(postive_male))\n",
    "\n",
    "\n",
    "male = marginals[marginals['gender'] == 'Male']\n",
    "female = marginals[marginals['gender'] == 'Female']\n",
    "\n",
    "#print(len(postive_female)/len(female))\n",
    "\n",
    "#print(len(postive_male)/len(male))\n",
    "\n",
    "print((len(postive_female)/len(female))/(len(postive_male)/len(male)))\n",
    "\n",
    "\n",
    "\n"
   ]
  },
  {
   "cell_type": "code",
   "execution_count": 41,
   "metadata": {},
   "outputs": [
    {
     "name": "stdout",
     "output_type": "stream",
     "text": [
      "0.40888651591419023\n"
     ]
    }
   ],
   "source": [
    "postive_female= postive_class[(postive_class['race'] == 'Black')]\n",
    "postive_male= postive_class[(postive_class['race'] == 'White')]\n",
    "\n",
    "\n",
    "#print(len(postive_female)/len(postive_male))\n",
    "\n",
    "\n",
    "male = marginals[marginals['race'] == 'White']\n",
    "female = marginals[marginals['race'] == 'Black']\n",
    "\n",
    "#print(len(postive_female)/len(female))\n",
    "\n",
    "#print(len(postive_male)/len(male))\n",
    "\n",
    "print((len(postive_female)/len(female))/(len(postive_male)/len(male)))\n",
    "\n"
   ]
  },
  {
   "cell_type": "markdown",
   "metadata": {},
   "source": [
    "# Check-in point"
   ]
  },
  {
   "cell_type": "markdown",
   "metadata": {},
   "source": [
    " Calculate the demographic parity for race and do the checkin quiz in canvas. \n",
    " \n",
    " Let's look at why it's not fair: for it to be fair ratio>1-epsilon \n",
    " P{R=1∣A=b}/ P{R=1∣A=a} > 1 - epsilon\n",
    " "
   ]
  },
  {
   "cell_type": "markdown",
   "metadata": {},
   "source": [
    "# Seperation "
   ]
  },
  {
   "cell_type": "markdown",
   "metadata": {},
   "source": [
    "Separation criteria requires that all groups experience the same false negative rate and the same false positive rate. \n"
   ]
  },
  {
   "cell_type": "markdown",
   "metadata": {},
   "source": [
    "![alt text](c.png)"
   ]
  },
  {
   "cell_type": "code",
   "execution_count": 33,
   "metadata": {
    "scrolled": true
   },
   "outputs": [
    {
     "data": {
      "image/png": "[encoded data removed]",
      "text/plain": [
       "<Figure size 432x360 with 1 Axes>"
      ]
     },
     "metadata": {
      "needs_background": "light"
     },
     "output_type": "display_data"
    }
   ],
   "source": [
    "male = marginals[marginals['gender'] == 'Male']\n",
    "#the metrics.roc_curve method from sklearn library takes the labels, and scores \n",
    "# and reutrn false positive, true positive rate and a threshold which we ignore \n",
    "\n",
    "fpr_male, tpr_male, _ = metrics.roc_curve(male['target'], male['score'])\n",
    "\n",
    "\n",
    "female = marginals[marginals['gender'] == 'Female']\n",
    "fpr_female, tpr_female, _ = metrics.roc_curve(female['target'], female['score'])\n",
    "\n",
    "\n",
    "plt.figure(1, figsize=(6, 5))\n",
    "plt.title('ROC curves by group')\n",
    "plt.xlabel('False positive rate')\n",
    "plt.ylabel('True positive rate')\n",
    "\n",
    "plt.plot(fpr_male, tpr_male, label='male', linestyle='-', color='b')\n",
    "plt.plot(fpr_female, tpr_female, label='female', linestyle='--', color='g')\n",
    "\n",
    "plt.legend()\n",
    "plt.show()"
   ]
  },
  {
   "cell_type": "code",
   "execution_count": 34,
   "metadata": {},
   "outputs": [
    {
     "data": {
      "image/png": "[encoded data removed]",
      "text/plain": [
       "<Figure size 432x360 with 1 Axes>"
      ]
     },
     "metadata": {
      "needs_background": "light"
     },
     "output_type": "display_data"
    }
   ],
   "source": [
    "white = marginals[marginals['race'] == 'White']\n",
    "fpr_white, tpr_white, _ = metrics.roc_curve(white['target'], white['score'])\n",
    "black = marginals[marginals['race'] == 'Black']\n",
    "fpr_black, tpr_black, _ = metrics.roc_curve(black['target'], black['score'])\n",
    "\n",
    "plt.figure(1, figsize=(6, 5))\n",
    "plt.title('ROC curves by group')\n",
    "plt.xlabel('False positive rate')\n",
    "plt.ylabel('True positive rate')\n",
    "plt.plot(fpr_white, tpr_white, label='white', linestyle='-.', color='c')\n",
    "plt.plot(fpr_black, tpr_black, label='black', linestyle=':', color='r')\n",
    "plt.legend()\n",
    "plt.show()"
   ]
  },
  {
   "cell_type": "markdown",
   "metadata": {},
   "source": [
    "# Checkin point "
   ]
  },
  {
   "cell_type": "markdown",
   "metadata": {},
   "source": [
    "What observation can you make from the above ROC curve?"
   ]
  },
  {
   "cell_type": "markdown",
   "metadata": {},
   "source": [
    "# Relaxation of separation \n"
   ]
  },
  {
   "cell_type": "markdown",
   "metadata": {},
   "source": [
    "Predictive Equality. \n",
    "In short, the probability for unqualified individuals to be classified for the\n",
    "favourable outcome needs to be equal in both groups. We compare the false positive rate (FPR)\n",
    "This formalises to\n",
    "P1(Yˆ =1|Y =0)=P0(Yˆ =1|Y =0)."
   ]
  },
  {
   "cell_type": "markdown",
   "metadata": {},
   "source": [
    "Equality of Opportunity.\n",
    "The notion of equality of opportunity complements predictive equality.\n",
    "Instead of expecting equal FPRs, equal false negative rates (FNR) are required. This means, the probability for qualified individuals to be classified for the unfavourable outcome has to be equal in both groups:\n",
    "\n",
    "P1(Yˆ =0|Y =1)=P0(Yˆ =0|Y =1)."
   ]
  },
  {
   "cell_type": "markdown",
   "metadata": {},
   "source": [
    "# Sufficiency : "
   ]
  },
  {
   "cell_type": "markdown",
   "metadata": {},
   "source": [
    "Marginal table\n",
    "Let's create a marginal table of the attributes we're interested in: target, score, prediction, race, gender."
   ]
  },
  {
   "cell_type": "code",
   "execution_count": 35,
   "metadata": {},
   "outputs": [],
   "source": [
    "def score_range(p, q, df):\n",
    "    \"\"\"Returns number of success and observations for given bucket.\"\"\"\n",
    "    gp = df[df['score'] > p]\n",
    "    lq = gp[gp['score'] <= q]\n",
    "    return [sum(lq['target']), len(lq['target'])]\n",
    "\n",
    "def get_frequencies(marginals, num_buckets=10):\n",
    "    \"\"\"Returns list of lists. The first list is successes \n",
    "    for all buckets, the second one is total counts.\"\"\"\n",
    "    ts = np.linspace(0, 1, num_buckets+1)\n",
    "    frequencies = [[],[]]\n",
    "    for i in range(num_buckets):\n",
    "        b = score_range(ts[i], ts[i+1], marginals)\n",
    "        frequencies[0].append(b[0])\n",
    "        frequencies[1].append(b[1])\n",
    "    return frequencies\n",
    "\n",
    "def plot_confidence(plt, xs, n_succs, n_obss, label, linestyle, color, confidence=0.95):\n",
    "    \"\"\"Plot a graph with confidence intervals where\n",
    "       each x corresponds to a binomial random variable in which n_obs observations led to n_succ successes\"\"\"\n",
    "    n_succs, n_obss = np.array(n_succs), np.array(n_obss)\n",
    "    conf_lbs, conf_ubs = proportion.proportion_confint(n_succs, n_obss, alpha=1-confidence)\n",
    "    pylab.fill_between(xs, conf_ubs, conf_lbs, alpha=.2, color=color)\n",
    "    pylab.plot(xs, n_succs / n_obss, '.-', label=label, linestyle=linestyle, color=color)"
   ]
  },
  {
   "cell_type": "markdown",
   "metadata": {},
   "source": [
    "### Callibration by group "
   ]
  },
  {
   "cell_type": "code",
   "execution_count": 36,
   "metadata": {},
   "outputs": [],
   "source": [
    "races = ['White', 'Black']\n",
    "styles = ['-', '--']\n",
    "colors = ['g', 'b']\n",
    "deciles = range(1, 10+1)\n",
    "pylab.rc('font',  size='17')\n",
    "pylab.rc('axes', labelsize='large')\n",
    "pylab.rc('lines', linewidth=3)"
   ]
  },
  {
   "cell_type": "code",
   "execution_count": 37,
   "metadata": {},
   "outputs": [
    {
     "data": {
      "image/png": "[encoded data removed]",
      "text/plain": [
       "<Figure size 432x360 with 1 Axes>"
      ]
     },
     "metadata": {
      "needs_background": "light"
     },
     "output_type": "display_data"
    }
   ],
   "source": [
    "pylab.figure(1, figsize=(6, 5))\n",
    "pylab.title('Calibration')\n",
    "\n",
    "for i in range(2):\n",
    "    race = races[i]\n",
    "    num = get_frequencies(marginals[marginals['race']== race])\n",
    "    plot_confidence(plt, deciles, num[0], num[1], race, styles[i], colors[i])\n",
    "\n",
    "pylab.legend(title=\"Race\")\n",
    "pylab.ylabel('Rate of positive outcomes')\n",
    "pylab.xlabel('Score decile')\n",
    "pylab.tight_layout()"
   ]
  },
  {
   "cell_type": "markdown",
   "metadata": {},
   "source": [
    "### Callibration by race"
   ]
  },
  {
   "cell_type": "code",
   "execution_count": 38,
   "metadata": {},
   "outputs": [
    {
     "data": {
      "image/png": "[encoded data removed]",
      "text/plain": [
       "<Figure size 432x360 with 1 Axes>"
      ]
     },
     "metadata": {
      "needs_background": "light"
     },
     "output_type": "display_data"
    }
   ],
   "source": [
    "genders = ['Female', 'Male']\n",
    "pylab.figure(2, figsize=(6, 5))\n",
    "pylab.title('Calibration')\n",
    "\n",
    "for i in range(2):\n",
    "    gender = genders[i]\n",
    "    num = get_frequencies(marginals[marginals['gender']== gender])\n",
    "    plot_confidence(plt, deciles, num[0], num[1], gender, styles[i], colors[i])\n",
    "    \n",
    "plt.legend(title=\"Gender\")\n",
    "pylab.ylabel('Rate of positive outcomes')\n",
    "pylab.xlabel('Score decile')\n",
    "pylab.tight_layout()\n",
    "pylab.show()\n",
    "pylab.close()"
   ]
  },
  {
   "cell_type": "markdown",
   "metadata": {},
   "source": [
    "### ROC Curve"
   ]
  },
  {
   "cell_type": "code",
   "execution_count": 39,
   "metadata": {},
   "outputs": [],
   "source": [
    "#tmp.head()"
   ]
  },
  {
   "cell_type": "code",
   "execution_count": 40,
   "metadata": {},
   "outputs": [
    {
     "ename": "NameError",
     "evalue": "name 'tmp' is not defined",
     "output_type": "error",
     "traceback": [
      "\u001b[0;31m---------------------------------------------------------------------------\u001b[0m",
      "\u001b[0;31mNameError\u001b[0m                                 Traceback (most recent call last)",
      "\u001b[0;32m<ipython-input-40-c261a4b8779f>\u001b[0m in \u001b[0;36m<module>\u001b[0;34m\u001b[0m\n\u001b[0;32m----> 1\u001b[0;31m \u001b[0mtmp\u001b[0m\u001b[0;34m[\u001b[0m\u001b[0;34m'Target'\u001b[0m\u001b[0;34m]\u001b[0m\u001b[0;34m.\u001b[0m\u001b[0munique\u001b[0m\u001b[0;34m(\u001b[0m\u001b[0;34m)\u001b[0m\u001b[0;34m\u001b[0m\u001b[0;34m\u001b[0m\u001b[0m\n\u001b[0m\u001b[1;32m      2\u001b[0m \u001b[0mroc_original\u001b[0m\u001b[0;34m=\u001b[0m\u001b[0mtmp\u001b[0m\u001b[0;34m\u001b[0m\u001b[0;34m\u001b[0m\u001b[0m\n",
      "\u001b[0;31mNameError\u001b[0m: name 'tmp' is not defined"
     ]
    }
   ],
   "source": [
    "tmp['Target'].unique()\n",
    "roc_original=tmp"
   ]
  },
  {
   "cell_type": "markdown",
   "metadata": {},
   "source": [
    "### Group by race"
   ]
  },
  {
   "cell_type": "code",
   "execution_count": null,
   "metadata": {},
   "outputs": [],
   "source": [
    "total_black = len(roc_original[roc_original['Race']=='Black'])\n",
    "total_white = len(roc_original[roc_original['Race']=='White'])\n",
    "total_male = len(roc_original[roc_original['Sex']=='Male'])\n",
    "total_female = len(roc_original[roc_original['Sex']=='Female'])\n",
    "black = roc_original[roc_original['Race']=='Black']\n",
    "white = roc_original[roc_original['Race']=='White']\n",
    "male = roc_original[roc_original['Sex']=='Male']\n",
    "female = roc_original[roc_original['Sex']=='Female']\n",
    "\n",
    "# Race\n",
    "\n",
    "black_less50K = len(black[(black.Target == '<=50K') | (black.Target == '<=50K.')])/total_black\n",
    "black_greater50K = len(black[(black.Target == '>50K') | (black.Target == '>50K.')])/total_black\n",
    "white_less50K = len(white[(white.Target == '<=50K') | (white.Target == '<=50K.')])/total_white\n",
    "white_greater50K = len(white[(white.Target == '>50K') | (white.Target == '>50K.')])/total_white\n",
    "\n",
    "target_percent = pd.DataFrame({'<=50K': [black_less50K, white_less50K], '>50K': [black_greater50K, white_greater50K]}, index=['Black', 'White'])\n",
    "target_percent"
   ]
  },
  {
   "cell_type": "markdown",
   "metadata": {},
   "source": [
    "### Group by Gender"
   ]
  },
  {
   "cell_type": "code",
   "execution_count": null,
   "metadata": {},
   "outputs": [],
   "source": []
  },
  {
   "cell_type": "code",
   "execution_count": null,
   "metadata": {},
   "outputs": [],
   "source": []
  }
 ],
 "metadata": {
  "kernelspec": {
   "display_name": "Python 3",
   "language": "python",
   "name": "python3"
  },
  "language_info": {
   "codemirror_mode": {
    "name": "ipython",
    "version": 3
   },
   "file_extension": ".py",
   "mimetype": "text/x-python",
   "name": "python",
   "nbconvert_exporter": "python",
   "pygments_lexer": "ipython3",
   "version": "3.6.10"
  }
 },
 "nbformat": 4,
 "nbformat_minor": 4
}
